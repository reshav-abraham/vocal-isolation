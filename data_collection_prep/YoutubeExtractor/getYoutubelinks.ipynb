{
 "cells": [
  {
   "cell_type": "markdown",
   "metadata": {},
   "source": [
    "# YouTube link extractor"
   ]
  },
  {
   "cell_type": "markdown",
   "metadata": {},
   "source": [
    "This notebook will extract all youtube links from a playlist given a playlist link. It will generate a file named 'links_titles.txt' which will hold all of the retrieved links"
   ]
  },
  {
   "cell_type": "code",
   "execution_count": 1,
   "metadata": {},
   "outputs": [],
   "source": [
    "from bs4 import BeautifulSoup as bs\n",
    "import requests\n",
    "import re\n",
    "import os"
   ]
  },
  {
   "cell_type": "code",
   "execution_count": 2,
   "metadata": {},
   "outputs": [],
   "source": [
    "def readWrite(data,file_out,r=1):\n",
    "    if(r):\n",
    "        with open(file_out,\"r\") as file:\n",
    "            return \"\".join(file.readlines())\n",
    "    elif(r==0):\n",
    "        with open(file_out,\"w\") as file:\n",
    "            file.write(data)"
   ]
  },
  {
   "cell_type": "markdown",
   "metadata": {},
   "source": [
    "Parses Youtube playlist web page to get all video links in the Page. Creates array of tuples (link, songtitle)"
   ]
  },
  {
   "cell_type": "code",
   "execution_count": 3,
   "metadata": {},
   "outputs": [],
   "source": [
    "link = \"https://www.youtube.com/watch?v=tD5K-e0IAeg&list=RDQMkx27ckV3nGI&start_radio=1\"\n",
    "r = requests.get(link)\n",
    "page = r.text\n",
    "soup=bs(page,'html.parser')\n",
    "video_links = re.findall(r'data-video-id\\=\\\"(.*?)\\\" data-video-title\\=\\\"(.*?)\\\"',str(soup))"
   ]
  },
  {
   "cell_type": "markdown",
   "metadata": {},
   "source": [
    "Write Data to a file"
   ]
  },
  {
   "cell_type": "code",
   "execution_count": 4,
   "metadata": {},
   "outputs": [],
   "source": [
    "yt_url = \"https://www.youtube.com/watch?\"\n",
    "#vid = \"v=\" + video_links[0][0]"
   ]
  },
  {
   "cell_type": "markdown",
   "metadata": {},
   "source": [
    "Get Links from web page and store into link_results"
   ]
  },
  {
   "cell_type": "code",
   "execution_count": 5,
   "metadata": {},
   "outputs": [],
   "source": [
    "link_results = \"\"\n",
    "for data in video_links:\n",
    "    title = \"_\".join(data[1].replace(\"|\",\"\").replace(\",\",\"\").replace(\"+\",\"\").replace(\"–\",\"\").replace(\"(\",\"\").replace(\")\",\"\").split())\n",
    "    link_results += yt_url+\"v=\"+data[0] + \"|\" + title + \"\\n\" "
   ]
  },
  {
   "cell_type": "markdown",
   "metadata": {},
   "source": [
    "# Write links to file "
   ]
  },
  {
   "cell_type": "code",
   "execution_count": 7,
   "metadata": {},
   "outputs": [],
   "source": [
    "readWrite(link_results,\"links_titles.txt\",0)"
   ]
  },
  {
   "cell_type": "code",
   "execution_count": 9,
   "metadata": {},
   "outputs": [
    {
     "data": {
      "text/plain": [
       "['https://www.youtube.com/watch?v=tD5K-e0IAeg',\n",
       " 'Idealism_-_Nagashi\\nhttps://www.youtube.com/watch?v=QL9_rPPyCMQ',\n",
       " 'kudasai_-_dream_of_her\\nhttps://www.youtube.com/watch?v=3_D8uKFAT1E',\n",
       " 'idealism_-_phosphenes\\nhttps://www.youtube.com/watch?v=oQDMO9cbTNQ',\n",
       " 'idealism_-_Wanna_know\\nhttps://www.youtube.com/watch?v=JtG3UAm38iE',\n",
       " 'Idealism_-_A_Moment_of_Silence\\nhttps://www.youtube.com/watch?v=_ycXSbf0-Us',\n",
       " 'idealism_-_another_perspective\\nhttps://www.youtube.com/watch?v=rJS4YuS22Og',\n",
       " 'beowulf_-_savior\\nhttps://www.youtube.com/watch?v=ezzlJIdajA0',\n",
       " 'calm\\nhttps://www.youtube.com/watch?v=GgVcgbtHY9k',\n",
       " 'burbank_-_sorry_i_like_you\\nhttps://www.youtube.com/watch?v=7ZguAEoNpZw',\n",
       " \"L'indécis_-_Soulful\\nhttps://www.youtube.com/watch?v=XDpoBc8t6gE\",\n",
       " \"kudasai_-_the_girl_i_haven't_met\\nhttps://www.youtube.com/watch?v=zzCUciITcrg\",\n",
       " 'Idealism_-_Waon_To_Me\\nhttps://www.youtube.com/watch?v=azijXCd6EMg',\n",
       " \"Idealism_-_ilia's_dream\\nhttps://www.youtube.com/watch?v=7ksjaU0IeiU\",\n",
       " 'Idealism_-_Time_Will_Tell\\nhttps://www.youtube.com/watch?v=autZufInfMo',\n",
       " 'Ocean_-_17_Shiloh_Remix\\nhttps://www.youtube.com/watch?v=CcpbfhYrv_c',\n",
       " 'sagun_-_Trust_Nobody_Love_Nobody_The_Same_Feat._Shiloh_Dynasty\\nhttps://www.youtube.com/watch?v=DhHGDOgjie4',\n",
       " 'RUDE_-_Eternal_Youth\\nhttps://www.youtube.com/watch?v=CV03Xl6AKjA',\n",
       " 'idealism_-_monster_gambling_in_Tokyo\\nhttps://www.youtube.com/watch?v=6mtn1YWyJas',\n",
       " 'swell_-_im_sorry_feat._shiloh\\nhttps://www.youtube.com/watch?v=5UDfE-kQRa0',\n",
       " 'idealism_-_dont_say_a_word\\nhttps://www.youtube.com/watch?v=nQ7JNLy3MFI',\n",
       " 'kudasai_-_attached\\nhttps://www.youtube.com/watch?v=NZwl3PjFa5s',\n",
       " 'idealism_-_latenite\\nhttps://www.youtube.com/watch?v=XgHBbm7g_4k',\n",
       " 'kudasai_-_a_light_of_mine\\nhttps://www.youtube.com/watch?v=ADp9P3p85w0',\n",
       " 'The_Deli_-_5:32PM\\nhttps://www.youtube.com/watch?v=N11fazSz6TY',\n",
       " 'Idealism_-_Sweven\\n']"
      ]
     },
     "execution_count": 9,
     "metadata": {},
     "output_type": "execute_result"
    }
   ],
   "source": [
    "link_results.split(\"|\")"
   ]
  },
  {
   "cell_type": "code",
   "execution_count": null,
   "metadata": {},
   "outputs": [],
   "source": []
  }
 ],
 "metadata": {
  "kernelspec": {
   "display_name": "python3",
   "language": "python3",
   "name": "python3"
  },
  "language_info": {
   "codemirror_mode": {
    "name": "ipython",
    "version": 3
   },
   "file_extension": ".py",
   "mimetype": "text/x-python",
   "name": "python",
   "nbconvert_exporter": "python",
   "pygments_lexer": "ipython3",
   "version": "3.6.5"
  }
 },
 "nbformat": 4,
 "nbformat_minor": 2
}
