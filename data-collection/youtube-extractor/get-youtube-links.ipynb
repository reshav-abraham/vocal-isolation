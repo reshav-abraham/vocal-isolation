{
 "cells": [
  {
   "cell_type": "markdown",
   "metadata": {},
   "source": [
    "# YouTube link extractor"
   ]
  },
  {
   "cell_type": "markdown",
   "metadata": {},
   "source": [
    "This notebook will extract all youtube links from a playlist given a playlist link. It will generate a file named 'links_titles.txt' which will hold all of the retrieved links"
   ]
  },
  {
   "cell_type": "markdown",
   "metadata": {},
   "source": [
    "<h3>Libraries</h3>"
   ]
  },
  {
   "cell_type": "code",
   "execution_count": 20,
   "metadata": {},
   "outputs": [],
   "source": [
    "from bs4 import BeautifulSoup\n",
    "import requests\n",
    "import re\n",
    "import os"
   ]
  },
  {
   "cell_type": "markdown",
   "metadata": {},
   "source": [
    "<h3>Youtube Playlist url</h3>"
   ]
  },
  {
   "cell_type": "code",
   "execution_count": 21,
   "metadata": {},
   "outputs": [],
   "source": [
    "#instrumental tracks\n",
    "#link = \"https://www.youtube.com/watch?v=tD5K-e0IAeg&list=RDQMkx27ckV3nGI&start_radio=1\"\n",
    "#link = \"https://www.youtube.com/watch?v=8yYpQi96bng&list=PLrgkRQ9954-Rv7gNesYeAzmjwzuBbkM47&index=1\"\n",
    "link = \"https://www.youtube.com/watch?v=spKeM0xepA4&list=PLiy0XOfUv4hFHmPs0a8RqkDzfT-2nw7WV&index=8\"\n",
    "#acapella tracks\n",
    "#link = \"https://www.youtube.com/watch?v=oWop9OzZ6d4&list=PLdmX7FFFYdFAhjLgdBK9UV7_m2Puls7jc\"\n"
   ]
  },
  {
   "cell_type": "markdown",
   "metadata": {},
   "source": [
    "Parses Youtube playlist web page to get all video links in the Page. Creates array of tuples (link, songtitle)"
   ]
  },
  {
   "cell_type": "code",
   "execution_count": 22,
   "metadata": {},
   "outputs": [],
   "source": [
    "html_text = requests.get(link).text\n",
    "soup = BeautifulSoup(html_text,'html.parser')\n",
    "video_links = re.findall(r'data-video-id\\=\\\"(.*?)\\\" data-video-title\\=\\\"(.*?)\\\"',str(soup))"
   ]
  },
  {
   "cell_type": "markdown",
   "metadata": {},
   "source": [
    "Creates a string of youtube urls and matching title delimited by '|'. Special characters have been removed from the title which is necessary for the next step of the project."
   ]
  },
  {
   "cell_type": "code",
   "execution_count": 23,
   "metadata": {},
   "outputs": [],
   "source": [
    "link_results = \"\"\n",
    "youtube_url = \"https://www.youtube.com/watch?\"\n",
    "for data in video_links:\n",
    "    title = re.sub('[\\’\\'\\–\\(\\)\\+\\,\\|]*','',data[1])\n",
    "    title = re.sub('\\s+','_',title)\n",
    "    link_results += youtube_url + \"v=\" + data[0] + \"|\" + title + \"\\n\""
   ]
  },
  {
   "cell_type": "markdown",
   "metadata": {},
   "source": [
    "<h3> Write links to file </h3>"
   ]
  },
  {
   "cell_type": "code",
   "execution_count": 24,
   "metadata": {},
   "outputs": [],
   "source": [
    "with open(\"links_titles.txt\",\"w\") as file:\n",
    "    file.write(link_results)"
   ]
  },
  {
   "cell_type": "code",
   "execution_count": 25,
   "metadata": {},
   "outputs": [
    {
     "data": {
      "text/plain": [
       "['https://www.youtube.com/watch?v=vltC-O7PDYQ|Herb_Alpert_-_Rise_HQ_Audio',\n",
       " 'https://www.youtube.com/watch?v=qfIiYBMIgJs|Feel_so_Good_-_Chuck_Mangion',\n",
       " 'https://www.youtube.com/watch?v=zrGcdnZ_rWc|SHAKATAK_-_Night_Birds',\n",
       " 'https://www.youtube.com/watch?v=rHHH97QlI8c|Yellowjackets_-_Local_Hero',\n",
       " 'https://www.youtube.com/watch?v=vmDDOFXSgAs|Dave_Brubeck_-_Take_Five',\n",
       " 'https://www.youtube.com/watch?v=wsTmzb1HHvM|Boney_James_-_Stop_Look_Listen_To_Your_Heart',\n",
       " 'https://www.youtube.com/watch?v=447yaU_4DF8|Kenny_G_-_The_Moment_Official_Video',\n",
       " 'https://www.youtube.com/watch?v=spKeM0xepA4|Kim_Waters_-_Love_like_this',\n",
       " 'https://www.youtube.com/watch?v=b9dQEn-LGwY|Ronny_Jordan_-_Heaven',\n",
       " 'https://www.youtube.com/watch?v=zwBpGU8RY3A|Fourplay_-_101_Eastbound']"
      ]
     },
     "execution_count": 25,
     "metadata": {},
     "output_type": "execute_result"
    }
   ],
   "source": [
    "link_results.split(\"\\n\")[:10]"
   ]
  },
  {
   "cell_type": "code",
   "execution_count": null,
   "metadata": {},
   "outputs": [],
   "source": []
  }
 ],
 "metadata": {
  "kernelspec": {
   "display_name": "python3",
   "language": "python3",
   "name": "python3"
  },
  "language_info": {
   "codemirror_mode": {
    "name": "ipython",
    "version": 3
   },
   "file_extension": ".py",
   "mimetype": "text/x-python",
   "name": "python",
   "nbconvert_exporter": "python",
   "pygments_lexer": "ipython3",
   "version": "3.6.5"
  }
 },
 "nbformat": 4,
 "nbformat_minor": 2
}
