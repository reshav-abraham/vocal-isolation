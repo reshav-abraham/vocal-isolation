{
 "cells": [
  {
   "cell_type": "markdown",
   "metadata": {},
   "source": [
    "# YouTube link extractor"
   ]
  },
  {
   "cell_type": "markdown",
   "metadata": {},
   "source": [
    "This notebook will extract all youtube links from a playlist given a playlist link. It will generate a file named 'links_titles.txt' which will hold all of the retrieved links"
   ]
  },
  {
   "cell_type": "markdown",
   "metadata": {},
   "source": [
    "<h3>Libraries</h3>"
   ]
  },
  {
   "cell_type": "code",
   "execution_count": 6,
   "metadata": {},
   "outputs": [],
   "source": [
    "from bs4 import BeautifulSoup\n",
    "import requests\n",
    "import re\n",
    "import os"
   ]
  },
  {
   "cell_type": "markdown",
   "metadata": {},
   "source": [
    "<h3>Youtube Playlist url</h3>"
   ]
  },
  {
   "cell_type": "code",
   "execution_count": 3,
   "metadata": {},
   "outputs": [],
   "source": [
    "#instrumental tracks\n",
    "#link = \"https://www.youtube.com/watch?v=tD5K-e0IAeg&list=RDQMkx27ckV3nGI&start_radio=1\"\n",
    "#acapella tracks\n",
    "link = \"https://www.youtube.com/watch?v=oWop9OzZ6d4&list=PLdmX7FFFYdFAhjLgdBK9UV7_m2Puls7jc\""
   ]
  },
  {
   "cell_type": "markdown",
   "metadata": {},
   "source": [
    "Parses Youtube playlist web page to get all video links in the Page. Creates array of tuples (link, songtitle)"
   ]
  },
  {
   "cell_type": "code",
   "execution_count": 7,
   "metadata": {},
   "outputs": [],
   "source": [
    "html_text = requests.get(link).text\n",
    "soup = BeautifulSoup(html_text,'html.parser')\n",
    "video_links = re.findall(r'data-video-id\\=\\\"(.*?)\\\" data-video-title\\=\\\"(.*?)\\\"',str(soup))"
   ]
  },
  {
   "cell_type": "markdown",
   "metadata": {},
   "source": [
    "Creates a string of youtube urls and matching title delimited by '|'. Special characters have been removed from the title which is necessary for the next step of the project."
   ]
  },
  {
   "cell_type": "code",
   "execution_count": 44,
   "metadata": {},
   "outputs": [],
   "source": [
    "link_results = \"\"\n",
    "youtube_url = \"https://www.youtube.com/watch?\"\n",
    "for data in video_links:\n",
    "    title = re.sub('[\\'\\–\\(\\)\\+\\,\\|]*','',data[1])\n",
    "    title = re.sub('\\s+','_',title)\n",
    "    link_results += youtube_url + \"v=\" + data[0] + \"|\" + title + \"\\n\""
   ]
  },
  {
   "cell_type": "markdown",
   "metadata": {},
   "source": [
    "<h3> Write links to file </h3>"
   ]
  },
  {
   "cell_type": "code",
   "execution_count": 45,
   "metadata": {},
   "outputs": [],
   "source": [
    "with open(\"links_titles.txt\",\"w\") as file:\n",
    "    file.write(link_results)"
   ]
  },
  {
   "cell_type": "code",
   "execution_count": 46,
   "metadata": {},
   "outputs": [
    {
     "data": {
      "text/plain": [
       "['https://www.youtube.com/watch?v=oWop9OzZ6d4|Post_Malone_I_Fall_Apart_Studio_Acapella_DL_Link',\n",
       " 'https://www.youtube.com/watch?v=dYvPCgcFDIo|Backstreet_Boys_I_Want_It_That_Way_Studio_Acapella_DL_Link',\n",
       " 'https://www.youtube.com/watch?v=JhqmjUUIeqY|2Pac_Troublesome_Studio_Acapella_DL_Link',\n",
       " 'https://www.youtube.com/watch?v=rZeZ5V4UOKM|Bruno_Mars_Locked_Out_of_Heaven_Studio_Acapella_DL_Link',\n",
       " 'https://www.youtube.com/watch?v=n97awIH1X94|Gnash_Olivia_O’Brien_I_Hate_U_I_Love_U_Studio_Acapella_DL_Link',\n",
       " 'https://www.youtube.com/watch?v=BuQznOi-5-o|Akon_Lonely_Studio_Acapella_DL_Link',\n",
       " 'https://www.youtube.com/watch?v=pa5mAOyeawg|Desiigner_Tiimmy_Turner_Studio_Acapella_DL_Link',\n",
       " 'https://www.youtube.com/watch?v=I7po1PjQEuU|Avicii_Sandro_Cavazza_Without_You_Studio_Acapella_DL_Link',\n",
       " 'https://www.youtube.com/watch?v=wx-g-f39TOA|Jhené_Aiko_The_Worst_Studio_Acapella_DL_Link',\n",
       " 'https://www.youtube.com/watch?v=Khs4fbjUCx4|Missy_Elliott_Get_Ur_Freak_On_Studio_Acapella_DL_Link']"
      ]
     },
     "execution_count": 46,
     "metadata": {},
     "output_type": "execute_result"
    }
   ],
   "source": [
    "link_results.split(\"\\n\")[:10]"
   ]
  }
 ],
 "metadata": {
  "kernelspec": {
   "display_name": "python3",
   "language": "python3",
   "name": "python3"
  },
  "language_info": {
   "codemirror_mode": {
    "name": "ipython",
    "version": 3
   },
   "file_extension": ".py",
   "mimetype": "text/x-python",
   "name": "python",
   "nbconvert_exporter": "python",
   "pygments_lexer": "ipython3",
   "version": "3.6.5"
  }
 },
 "nbformat": 4,
 "nbformat_minor": 2
}
